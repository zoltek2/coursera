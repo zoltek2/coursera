{
 "cells": [
  {
   "cell_type": "markdown",
   "id": "4f76346e-12e3-44dc-bd4e-899aa64c3f31",
   "metadata": {},
   "source": [
    "# Data Science Tools and Ecosystem"
   ]
  },
  {
   "cell_type": "markdown",
   "id": "9434f03c-081c-4da2-bfc0-95883dbeeeee",
   "metadata": {},
   "source": [
    "In this notebook, Data Science Tools and Ecosystem are summarized."
   ]
  },
  {
   "cell_type": "markdown",
   "id": "7ef4f240-58ed-430c-9662-7bee77c5515e",
   "metadata": {},
   "source": [
    "**Objectives:**\n",
    "- List popular languages for Data Sciense\n",
    "- List popular tools for Data Science\n",
    "- List commonly used libraries for Data Science"
   ]
  },
  {
   "cell_type": "markdown",
   "id": "3afd759d-a49c-4d88-9cd8-d5eaa8682ca2",
   "metadata": {},
   "source": [
    "Some of the popular languages that Data Scientists use are:\n",
    "1. Python\n",
    "2. SQL\n",
    "3. R\n",
    "4. Java\n",
    "5. Scala\n",
    "6. Julia"
   ]
  },
  {
   "cell_type": "markdown",
   "id": "aa9705ef-4769-494a-be56-8a3593507901",
   "metadata": {},
   "source": [
    "Some of the commonly used libraries used by Data Scientists include:\n",
    "1. Pandas\n",
    "2. NumPy\n",
    "3. SciKit-Learn\n",
    "4. TensorFlow\n",
    "5. MatPlotLib\n",
    "6. Plotly\n",
    "7. Seaborn\n",
    "8. Keras\n",
    "9. PyTorch\n",
    "10. SciPy"
   ]
  },
  {
   "cell_type": "markdown",
   "id": "e382ce6d-2c06-480a-a120-bf9c84ff8c5f",
   "metadata": {},
   "source": [
    "|Data Science Tools|\n",
    "--------------------\n",
    "|Jupyter Notebook|\n",
    "|Visual Studio Code|\n",
    "|RStudio|"
   ]
  },
  {
   "cell_type": "markdown",
   "id": "abafd603-2c3d-4e72-b2fd-90b2a53a209e",
   "metadata": {},
   "source": [
    "### Below are a few examples of evaluating arithmetic expressions in Python"
   ]
  },
  {
   "cell_type": "code",
   "execution_count": 1,
   "id": "4d2fc6ee-de99-4792-a5db-602ef39dd7c1",
   "metadata": {},
   "outputs": [
    {
     "data": {
      "text/plain": [
       "17"
      ]
     },
     "execution_count": 1,
     "metadata": {},
     "output_type": "execute_result"
    }
   ],
   "source": [
    "# This a simple arithmetic expression to multiply then add integers\n",
    "\n",
    "(3 * 4) + 5"
   ]
  },
  {
   "cell_type": "code",
   "execution_count": 2,
   "id": "ab2d5dd5-efdf-45c4-961b-d5096db7bc72",
   "metadata": {},
   "outputs": [
    {
     "data": {
      "text/plain": [
       "3.3333333333333335"
      ]
     },
     "execution_count": 2,
     "metadata": {},
     "output_type": "execute_result"
    }
   ],
   "source": [
    "# This will convert 200 minutes to hours by dividing by 60\n",
    "\n",
    "200 / 60"
   ]
  },
  {
   "cell_type": "markdown",
   "id": "60803f3b-ab65-4ad7-8c9c-8930f464d57d",
   "metadata": {},
   "source": [
    "## Author \n",
    "Jarosław Rykowski"
   ]
  },
  {
   "cell_type": "code",
   "execution_count": null,
   "id": "d6da90a4-4be0-4157-ad8a-5a7d3d655772",
   "metadata": {},
   "outputs": [],
   "source": []
  }
 ],
 "metadata": {
  "kernelspec": {
   "display_name": "Python 3 (ipykernel)",
   "language": "python",
   "name": "python3"
  },
  "language_info": {
   "codemirror_mode": {
    "name": "ipython",
    "version": 3
   },
   "file_extension": ".py",
   "mimetype": "text/x-python",
   "name": "python",
   "nbconvert_exporter": "python",
   "pygments_lexer": "ipython3",
   "version": "3.11.7"
  }
 },
 "nbformat": 4,
 "nbformat_minor": 5
}
